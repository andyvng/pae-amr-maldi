{
 "cells": [
  {
   "cell_type": "code",
   "execution_count": 2,
   "metadata": {},
   "outputs": [
    {
     "name": "stderr",
     "output_type": "stream",
     "text": [
      "/opt/anaconda3/envs/maldi_autoencoder/lib/python3.9/site-packages/tqdm/auto.py:22: TqdmWarning: IProgress not found. Please update jupyter and ipywidgets. See https://ipywidgets.readthedocs.io/en/stable/user_install.html\n",
      "  from .autonotebook import tqdm as notebook_tqdm\n"
     ]
    }
   ],
   "source": [
    "import os\n",
    "import sys\n",
    "import pandas as pd\n",
    "import numpy as np\n",
    "import torch\n",
    "from dynaconf import Dynaconf\n",
    "from vit_pytorch import ViT\n",
    "import pytorch_lightning as pl"
   ]
  },
  {
   "cell_type": "code",
   "execution_count": 3,
   "metadata": {},
   "outputs": [],
   "source": [
    "class VanillaViT(pl.LightningModule):\n",
    "    def __init__(self, settings):\n",
    "        super(VanillaViT, self).__init__()\n",
    "        self.settings = settings\n",
    "        self.save_hyperparameters()\n",
    "\n",
    "        self.vit = ViT(\n",
    "            image_size=tuple(settings.VVIT_image_size),\n",
    "            patch_size=tuple(settings.VVIT_patch_size),\n",
    "            num_classes=settings.VVIT_num_classes,\n",
    "            dim=settings.VVIT_dim,\n",
    "            depth=settings.VVIT_depth,\n",
    "            heads=settings.VVIT_heads,\n",
    "            mlp_dim=settings.VVIT_mlp_dim,\n",
    "            pool=settings.VVIT_pool,\n",
    "            channels=settings.VVIT_channels,\n",
    "            dim_head=settings.VVIT_dim_head,\n",
    "            dropout=settings.VVIT_dropout,\n",
    "            emb_dropout=settings.VVIT_emb_dropout\n",
    "        )\n",
    "\n",
    "    def forward(self, X):\n",
    "        return self.vit(X).squeeze()"
   ]
  },
  {
   "cell_type": "code",
   "execution_count": 4,
   "metadata": {},
   "outputs": [],
   "source": [
    "settings = Dynaconf(\n",
    "    envvar_prefix=\"DYNACONF\",\n",
    "    settings_files=['./settings.toml'])\n",
    "\n",
    "model = VanillaViT(settings)\n"
   ]
  },
  {
   "cell_type": "code",
   "execution_count": 5,
   "metadata": {},
   "outputs": [],
   "source": [
    "checkpoint = torch.load(\"./pretrained.ckpt\", map_location='cpu')\n",
    "\n",
    "# Remove prefix added by Pytorch lightning\n",
    "new_state_dict = {\".\".join(key.split(\".\")[1:]): value for key, value in checkpoint['state_dict'].items()}\n"
   ]
  },
  {
   "cell_type": "code",
   "execution_count": 6,
   "metadata": {},
   "outputs": [
    {
     "data": {
      "text/plain": [
       "<All keys matched successfully>"
      ]
     },
     "execution_count": 6,
     "metadata": {},
     "output_type": "execute_result"
    }
   ],
   "source": [
    "model.load_state_dict(new_state_dict)"
   ]
  },
  {
   "cell_type": "code",
   "execution_count": null,
   "metadata": {},
   "outputs": [],
   "source": []
  },
  {
   "cell_type": "code",
   "execution_count": null,
   "metadata": {},
   "outputs": [],
   "source": []
  }
 ],
 "metadata": {
  "kernelspec": {
   "display_name": "maldi_autoencoder",
   "language": "python",
   "name": "python3"
  },
  "language_info": {
   "codemirror_mode": {
    "name": "ipython",
    "version": 3
   },
   "file_extension": ".py",
   "mimetype": "text/x-python",
   "name": "python",
   "nbconvert_exporter": "python",
   "pygments_lexer": "ipython3",
   "version": "3.9.13"
  }
 },
 "nbformat": 4,
 "nbformat_minor": 2
}
